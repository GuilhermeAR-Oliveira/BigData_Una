{
 "metadata": {
  "language_info": {
   "codemirror_mode": {
    "name": "ipython",
    "version": 3
   },
   "file_extension": ".py",
   "mimetype": "text/x-python",
   "name": "python",
   "nbconvert_exporter": "python",
   "pygments_lexer": "ipython3",
   "version": "3.7.3-final"
  },
  "orig_nbformat": 2,
  "kernelspec": {
   "name": "python37364bita96d230653df4021b7f23762bb729cf7",
   "display_name": "Python 3.7.3 64-bit"
  }
 },
 "nbformat": 4,
 "nbformat_minor": 2,
 "cells": [
  {
   "source": [
    "# Prática 05"
   ],
   "cell_type": "markdown",
   "metadata": {}
  },
  {
   "source": [
    "** Inserir na Tabela Categoria **"
   ],
   "cell_type": "markdown",
   "metadata": {}
  },
  {
   "cell_type": "code",
   "execution_count": 6,
   "metadata": {},
   "outputs": [],
   "source": [
    "# Importar biblioteca pyodbc:\n",
    "import pyodbc"
   ]
  },
  {
   "cell_type": "code",
   "execution_count": 7,
   "metadata": {},
   "outputs": [],
   "source": [
    "# Classe para conexão com o banco de dados:\n",
    "class ConexaoBD:\n",
    "    def conectar(self):\n",
    "        return pyodbc.connect(driver='{ODBC Driver 17 for SQL Server}', server='localhost', pwd='guiUNA=>mssqlLIKE100%ADMIN', uid='sa', database='empresa')"
   ]
  },
  {
   "cell_type": "code",
   "execution_count": 8,
   "metadata": {},
   "outputs": [],
   "source": [
    "# Instanciar um objeto da classe para conexão com o banco de dados:\n",
    "bd = ConexaoBD ()\n",
    "\n",
    "# Pegar uma conexão com o banco de dados:\n",
    "conexao = bd.conectar ()"
   ]
  },
  {
   "cell_type": "code",
   "execution_count": 6,
   "metadata": {},
   "outputs": [],
   "source": [
    "#Classe Categoria:\n",
    "class Categoria:\n",
    "    def __init__(self, conexao):\n",
    "        self.conexao = conexao\n",
    "\n",
    "    def inserir(self):\n",
    "        dml = \"insert into Categoria (nome, descricao) values ('celulares', 'telefones celulares');\"\n",
    "\n",
    "        with self.conexao:\n",
    "            cursor = self.conexao.cursor()\n",
    "            cursor.execute(dml)\n",
    "            #self.conexao.commit()\n",
    "            sql = \"select * from Categoria;\"\n",
    "            cursor.execute(sql)\n",
    "            linha = cursor.fetchone()\n",
    "            return linha"
   ]
  },
  {
   "cell_type": "code",
   "execution_count": 7,
   "metadata": {
    "tags": []
   },
   "outputs": [
    {
     "output_type": "stream",
     "name": "stdout",
     "text": "(1, 'celulares', 'telefones celulares')\n"
    }
   ],
   "source": [
    "# Instaciar objeto da classe Categoria:\n",
    "categoria = Categoria (conexao)\n",
    "\n",
    "# Inserir um registro no banco de dados:\n",
    "linha = categoria.inserir ()\n",
    "\n",
    "# Apresentar na tela o registro inserido no banco de dados:\n",
    "print (linha)"
   ]
  },
  {
   "cell_type": "code",
   "execution_count": 9,
   "metadata": {},
   "outputs": [],
   "source": [
    "#Classe Categoria:\n",
    "class Categoria:\n",
    "    def __init__(self, conexao):\n",
    "        self.conexao = conexao\n",
    "\n",
    "    def inserir(self):\n",
    "        dml = \"insert into Categoria(nome,descricao) values(?,?);\"\n",
    "        nome = input('Informe o nome da categoria: ')\n",
    "        descricao = input('Informe a descrição da categoria: ')\n",
    "        parametros = tuple((nome, descricao))\n",
    "        \n",
    "        with self.conexao:\n",
    "            cursor = self.conexao.cursor()\n",
    "            cursor.execute(dml,parametros)\n",
    "            #self.conexao.commit()\n",
    "            sql = \"select * from Categoria\";\n",
    "            cursor.execute(sql)\n",
    "            linha = cursor.fetchall()\n",
    "            return linha"
   ]
  },
  {
   "cell_type": "code",
   "execution_count": 10,
   "metadata": {},
   "outputs": [],
   "source": [
    "#Classe Categoria\n",
    "class Categoria:\n",
    "    def __init__(self,conexao):\n",
    "        self.conexao = conexao\n",
    "\n",
    "    def inserir(self):\n",
    "        dml = \"insert into Categoria(nome,descricao) values(?,?);\"\n",
    "        nome = input(\"Informe o nome da categoria: \")\n",
    "        descricao = input(\"Informe a descrição da categoria: \")\n",
    "\n",
    "        with self.conexao:\n",
    "            cursor = self.conexao.cursor()\n",
    "            cursor.execute(dml,nome,descricao)\n",
    "            # self.conexao.commit()\n",
    "            sql = \"select * from Categoria;\"\n",
    "            cursor.execute(sql)\n",
    "            linhas = cursor.fetchall()\n",
    "            return linhas"
   ]
  },
  {
   "cell_type": "code",
   "execution_count": 11,
   "metadata": {
    "tags": []
   },
   "outputs": [
    {
     "output_type": "stream",
     "name": "stdout",
     "text": "[(1, 'celulares', 'telefones celulares'), (2, 'Bebidas', 'refrigerantes')]\n"
    }
   ],
   "source": [
    "#Instanciar objeto da classe Categoria:\n",
    "categoria = Categoria(conexao)\n",
    "\n",
    "#Inserir um registro no banco de dados\n",
    "linha = categoria.inserir()\n",
    "\n",
    "#Apresentar na tela o registro inserido no banco de dados\n",
    "print(linha)"
   ]
  },
  {
   "cell_type": "code",
   "execution_count": 15,
   "metadata": {},
   "outputs": [],
   "source": [
    "#Classe Categoria\n",
    "class Categoria:\n",
    "    def __init__(self,conexao):\n",
    "        self.conexao = conexao\n",
    "\n",
    "    def inserir(self):\n",
    "        dml = \"insert into Categoria (nome,descricao) values (?,?);\"\n",
    "        parametros = [\n",
    "            ('livros', 'livros impressos'),\n",
    "            ('eletrônicos', 'dispositivos eletrônicos'),\n",
    "            ('alimentos', 'alimentos não perecíveis')\n",
    "        ]\n",
    "        with self.conexao:\n",
    "            cursor = self.conexao.cursor()\n",
    "            cursor.executemany(dml,parametros)\n",
    "            #self.conexao.commit()\n",
    "            sql = \"select * from Categoria;\"\n",
    "            cursor.execute(sql)\n",
    "            linha = cursor.fetchall()\n",
    "            return linha"
   ]
  },
  {
   "cell_type": "code",
   "execution_count": 16,
   "metadata": {
    "tags": []
   },
   "outputs": [
    {
     "output_type": "stream",
     "name": "stdout",
     "text": "[(1, 'celulares', 'telefones celulares'), (2, 'Bebidas', 'refrigerantes'), (6, 'livros', 'livros impressos'), (7, 'eletrônicos', 'dispositivos eletrônicos'), (8, 'alimentos', 'alimentos não perecíveis')]\n"
    }
   ],
   "source": [
    "# Instaciar objeto da classe Categoria:\n",
    "categoria = Categoria(conexao)\n",
    "\n",
    "#Inserir um registro no banco de dados:\n",
    "linha = categoria.inserir()\n",
    "\n",
    "#Apresentar na tela o registro inserido no banco de dados:\n",
    "print(linha)"
   ]
  },
  {
   "cell_type": "code",
   "execution_count": 14,
   "metadata": {},
   "outputs": [],
   "source": [
    "#Classe Categoria:\n",
    "class Categoria:\n",
    "    def __init__(self,conexao):\n",
    "        self.conexao = conexao\n",
    "\n",
    "    def valores(self):\n",
    "        parametros = []\n",
    "        while True:\n",
    "            nome = input('Informe o nome da categoria: ')\n",
    "            descricao = input('Informe a descrição da categoria: ')\n",
    "            parametros.append((nome, descricao))\n",
    "            print(parametros)\n",
    "            resp = input('Deseja informar outro registro? (s/n)')\n",
    "            if resp == \"n\":\n",
    "                break\n",
    "        return parametros\n",
    "\n",
    "    def inserir(self):\n",
    "        dml = \"insert into Categoria (nome, descricao) values (?,?);\"\n",
    "        parametros = self.valores()\n",
    "        with self.conexao:\n",
    "            cursor = self.conexao.cursor()\n",
    "            cursor.executemany(dml, parametros)\n",
    "            # self.conexao.commit()\n",
    "            sql = \"select * from Categoria;\"\n",
    "            cursor.execute(sql)\n",
    "            linha = cursor.fetchall()\n",
    "            return linha"
   ]
  },
  {
   "cell_type": "code",
   "execution_count": 15,
   "metadata": {
    "tags": []
   },
   "outputs": [
    {
     "output_type": "stream",
     "name": "stdout",
     "text": "[('Computadores', 'Notebook Asus')]\n[(1, 'celulares', 'telefones celulares'), (2, 'Bebidas', 'refrigerantes'), (6, 'livros', 'livros impressos'), (7, 'eletrônicos', 'dispositivos eletrônicos'), (8, 'alimentos', 'alimentos não perecíveis'), (9, 'Computadores', 'Notebook Asus')]\n"
    }
   ],
   "source": [
    "# Instaciar objeto da classe Categoria:\n",
    "categoria = Categoria(conexao)\n",
    "\n",
    "#Inserir registro no banco de dados: \n",
    "linha = categoria.inserir()\n",
    "\n",
    "#Apresentar na tela o registro no banco de dados:\n",
    "print(linha)"
   ]
  },
  {
   "cell_type": "code",
   "execution_count": 19,
   "metadata": {},
   "outputs": [],
   "source": [
    "#Classe Categoria:\n",
    "class Categoria:\n",
    "    def __init__(self,coenxao):\n",
    "        self.conexao = conexao\n",
    "\n",
    "    def inserir(self):\n",
    "        dml = \"insert into Categoria (nome, descricao) values ('cozinha','utensilios de cozinha');\"\n",
    "        with self.conexao:\n",
    "            cursor = self.conexao.cursor()\n",
    "            cursor.execute(dml)\n",
    "            #self.conexao.comit()\n",
    "            sql = \"select cast (scope_identity () as int);\"\n",
    "            cursor.execute(sql)\n",
    "            id = cursor.fetchone()[0]\n",
    "\n",
    "            return id"
   ]
  },
  {
   "cell_type": "code",
   "execution_count": 20,
   "metadata": {
    "tags": []
   },
   "outputs": [
    {
     "output_type": "stream",
     "name": "stdout",
     "text": "10\n"
    }
   ],
   "source": [
    "#Instanciar objeto da classe Categoria: \n",
    "categoria = Categoria(conexao)\n",
    "\n",
    "#Inserir um registro no banco de dados:\n",
    "linha = categoria.inserir()\n",
    "\n",
    "#Apresentar na tela o registro inserido no banco de dados\n",
    "print(linha)"
   ]
  },
  {
   "source": [
    "** Exercicio 1 **"
   ],
   "cell_type": "markdown",
   "metadata": {}
  },
  {
   "cell_type": "code",
   "execution_count": 23,
   "metadata": {},
   "outputs": [],
   "source": [
    "# Em um notebook Jupyter, crie, nas classes apropriadas, os métodos para: inserções, atualizações e exclusões."
   ]
  },
  {
   "source": [
    "** Exercício 2 **"
   ],
   "cell_type": "markdown",
   "metadata": {}
  },
  {
   "cell_type": "code",
   "execution_count": 24,
   "metadata": {},
   "outputs": [],
   "source": [
    "#Realize inserções, atualizações e remoções em seu banco de dados a partir de seu notebook Jupyter"
   ]
  }
 ]
}