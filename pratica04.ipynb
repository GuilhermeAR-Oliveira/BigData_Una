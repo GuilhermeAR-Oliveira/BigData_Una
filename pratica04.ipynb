{
 "metadata": {
  "language_info": {
   "codemirror_mode": {
    "name": "ipython",
    "version": 3
   },
   "file_extension": ".py",
   "mimetype": "text/x-python",
   "name": "python",
   "nbconvert_exporter": "python",
   "pygments_lexer": "ipython3",
   "version": "3.7.3-final"
  },
  "orig_nbformat": 2,
  "kernelspec": {
   "name": "Python 3.7.3 64-bit",
   "display_name": "Python 3.7.3 64-bit",
   "metadata": {
    "interpreter": {
     "hash": "31f2aee4e71d21fbe5cf8b01ff0e069b9275f58929596ceb00d14d90e3e16cd6"
    }
   }
  }
 },
 "nbformat": 4,
 "nbformat_minor": 2,
 "cells": [
  {
   "source": [
    "# Prática 04"
   ],
   "cell_type": "markdown",
   "metadata": {}
  },
  {
   "source": [
    "** Exercício 1 - Criar as tabelas para o banco **"
   ],
   "cell_type": "markdown",
   "metadata": {}
  },
  {
   "cell_type": "code",
   "execution_count": 1,
   "metadata": {},
   "outputs": [],
   "source": [
    "# Importar biblioteca pyodbc\n",
    "import pyodbc"
   ]
  },
  {
   "cell_type": "code",
   "execution_count": 3,
   "metadata": {},
   "outputs": [],
   "source": [
    "# Classe para conexao com o banco de dados\n",
    "class ConexaoBD:\n",
    "    def conectar(self):\n",
    "        return pyodbc.connect(driver='{ODBC Driver 17 for SQL Server}', server='localhost', pwd='guiUNA=>mssqlLIKE100%ADMIN', uid='sa', database='empresa')"
   ]
  },
  {
   "cell_type": "code",
   "execution_count": 4,
   "metadata": {},
   "outputs": [],
   "source": [
    "# Pegar uma conexão com o banco de dados:\n",
    "bd = ConexaoBD()\n",
    "conexao = bd.conectar()"
   ]
  },
  {
   "cell_type": "code",
   "execution_count": 6,
   "metadata": {},
   "outputs": [],
   "source": [
    "# Classe Categoria:\n",
    "class Categoria: \n",
    "    def __init__(self, conexao):\n",
    "        self.conexao = conexao\n",
    "\n",
    "    def criar(self):\n",
    "        ddl = '''\n",
    "        CREATE TABLE Categoria(\n",
    "            id int primary Key identity(1,1),\n",
    "            nome varchar(32),\n",
    "            descricao text\n",
    "        ); '''\n",
    "\n",
    "        with self.conexao:\n",
    "            self.conexao.execute(ddl)\n",
    "\n",
    "categoria = Categoria(conexao)\n",
    "categoria.criar()                "
   ]
  },
  {
   "cell_type": "code",
   "execution_count": 7,
   "metadata": {},
   "outputs": [],
   "source": [
    "# Classe Vendedor\n",
    "class Vendedor:\n",
    "    def __init__(self, conexao):\n",
    "        self.conexao = conexao\n",
    "\n",
    "    def criar(self): \n",
    "        ddl = '''\n",
    "        CREATE TABLE Vendedor(\n",
    "            cpf varchar(14) primary key,\n",
    "            nome varchar(128),\n",
    "            email varchar(128),\n",
    "            telefone varchar(20),\n",
    "            endereco varchar(256)\n",
    "        );'''  \n",
    "\n",
    "        with self.conexao:\n",
    "            self.conexao.execute(ddl)  \n",
    "\n",
    "vendedor = Vendedor(conexao)\n",
    "vendedor.criar()"
   ]
  },
  {
   "cell_type": "code",
   "execution_count": 11,
   "metadata": {},
   "outputs": [],
   "source": [
    "# Classe Produto\n",
    "class Produto:\n",
    "    def __init__(self, conexao):\n",
    "        self.conexao = conexao\n",
    "\n",
    "    def criar(self):\n",
    "        ddl = '''\n",
    "        CREATE TABLE Produto(\n",
    "            id int primary key identity(1,1),\n",
    "            nome varchar(128),\n",
    "            descricao text,\n",
    "            marca varchar(32),\n",
    "            id_categoria int foreign key references Categoria(id)\n",
    "        );'''\n",
    "\n",
    "        with self.conexao:\n",
    "            self.conexao.execute(ddl)\n",
    "\n",
    "produto = Produto(conexao)\n",
    "produto.criar()         "
   ]
  },
  {
   "cell_type": "code",
   "execution_count": 13,
   "metadata": {},
   "outputs": [],
   "source": [
    "# Classe VendedoProduto\n",
    "class VendedoProduto:\n",
    "    def __init__(self, conexao):\n",
    "        self.conexao = conexao\n",
    "\n",
    "    def criar(self):\n",
    "        ddl = ''' \n",
    "        CREATE TABLE VendedorProduto(\n",
    "            id int primary key identity(1,1),\n",
    "            cpf_vendedor varchar(14) foreign key references Vendedor(cpf),\n",
    "            id_produto int foreign key references Produto(id),\n",
    "            quantidate int,\n",
    "            preco decimal\n",
    "        );'''  \n",
    "\n",
    "        with self.conexao:\n",
    "            self.conexao.execute(ddl)\n",
    "\n",
    "vendedorProduto = VendedoProduto(conexao)\n",
    "vendedorProduto.criar()    "
   ]
  },
  {
   "source": [
    "** Exercício 2 - Ler os registros das tabelas **"
   ],
   "cell_type": "markdown",
   "metadata": {}
  },
  {
   "cell_type": "code",
   "execution_count": 15,
   "metadata": {},
   "outputs": [],
   "source": [
    "#Tabela Categoria\n",
    "cursor = conexao.cursor()\n",
    "cursor.execute ('select * from Categoria')\n",
    "\n",
    "for nome in cursor:\n",
    "    print(nome)"
   ]
  },
  {
   "cell_type": "code",
   "execution_count": 16,
   "metadata": {},
   "outputs": [],
   "source": [
    "#Tabela Vendedor\n",
    "cursor = conexao.cursor()\n",
    "cursor.execute('select * from Vendedor')\n",
    "\n",
    "for nome in cursor:\n",
    "    print(nome)"
   ]
  },
  {
   "cell_type": "code",
   "execution_count": 17,
   "metadata": {},
   "outputs": [],
   "source": [
    "#Tabela Produto\n",
    "cursor = conexao.cursor()\n",
    "cursor.execute('select * from Produto')\n",
    "\n",
    "for nome in cursor:\n",
    "    print(nome)"
   ]
  },
  {
   "cell_type": "code",
   "execution_count": 19,
   "metadata": {},
   "outputs": [],
   "source": [
    "#Tabela VendedorProduto\n",
    "cursor = conexao.cursor()\n",
    "cursor.execute('select * from VendedorProduto')\n",
    "\n",
    "for nome in cursor:\n",
    "    print(nome) "
   ]
  },
  {
   "cell_type": "code",
   "execution_count": null,
   "metadata": {},
   "outputs": [],
   "source": []
  }
 ]
}